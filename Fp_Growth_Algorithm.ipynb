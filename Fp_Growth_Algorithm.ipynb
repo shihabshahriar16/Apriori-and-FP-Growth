{
  "nbformat": 4,
  "nbformat_minor": 0,
  "metadata": {
    "colab": {
      "name": "Fp Growth Algorithm.ipynb",
      "provenance": [],
      "collapsed_sections": [],
      "authorship_tag": "ABX9TyOb5sLizzEIZo2PkWMfgk5u",
      "include_colab_link": true
    },
    "kernelspec": {
      "name": "python3",
      "display_name": "Python 3"
    },
    "language_info": {
      "name": "python"
    }
  },
  "cells": [
    {
      "cell_type": "markdown",
      "metadata": {
        "id": "view-in-github",
        "colab_type": "text"
      },
      "source": [
        "<a href=\"https://colab.research.google.com/github/shihabshahriar16/Apriori-and-FP-Growth/blob/main/Fp_Growth_Algorithm.ipynb\" target=\"_parent\"><img src=\"https://colab.research.google.com/assets/colab-badge.svg\" alt=\"Open In Colab\"/></a>"
      ]
    },
    {
      "cell_type": "code",
      "metadata": {
        "colab": {
          "base_uri": "https://localhost:8080/"
        },
        "id": "1lUdLrC0vINy",
        "outputId": "6a2ea99f-c365-45b7-f900-faf4f410d78e"
      },
      "source": [
        "!git clone https://github.com/shihabshahriar16/Apriori-and-FP-Growth.git"
      ],
      "execution_count": 38,
      "outputs": [
        {
          "output_type": "stream",
          "text": [
            "Cloning into 'Apriori-and-FP-Growth'...\n",
            "remote: Enumerating objects: 7, done.\u001b[K\n",
            "remote: Counting objects: 100% (7/7), done.\u001b[K\n",
            "remote: Compressing objects: 100% (6/6), done.\u001b[K\n",
            "remote: Total 7 (delta 0), reused 0 (delta 0), pack-reused 0\u001b[K\n",
            "Unpacking objects: 100% (7/7), done.\n"
          ],
          "name": "stdout"
        }
      ]
    },
    {
      "cell_type": "markdown",
      "metadata": {
        "id": "TIUENiACRbMj"
      },
      "source": [
        "# Resource Followed\n",
        "\n",
        "https://towardsdatascience.com/fp-growth-frequent-pattern-generation-in-data-mining-with-python-implementation-244e561ab1c3"
      ]
    },
    {
      "cell_type": "markdown",
      "metadata": {
        "id": "dW8ar0FMRjBH"
      },
      "source": [
        "# FP Tree\n",
        "FP tree is the core concept of the whole FP Growth algorithm. Briefly speaking, the FP tree is the compressed representation of the itemset database. The tree structure not only reserves the itemset in DB but also keeps track of the association between itemsets\n",
        "\n",
        "\n",
        "The tree is constructed by taking each itemset and mapping it to a path in the tree one at a time. The whole idea behind this construction is that\n",
        "More frequently occurring items will have better chances of sharing items\n",
        "\n",
        "\n",
        "We then mine the tree recursively to get the frequent pattern. Pattern growth, the name of the algorithm, is achieved by concatenating the frequent pattern generated from the conditional FP trees."
      ]
    },
    {
      "cell_type": "code",
      "metadata": {
        "id": "i8KMnVSRQxGV"
      },
      "source": [
        "from collections import defaultdict, OrderedDict\n",
        "import csv\n",
        "from itertools import chain, combinations\n",
        "from optparse import OptionParser"
      ],
      "execution_count": 11,
      "outputs": []
    },
    {
      "cell_type": "markdown",
      "metadata": {
        "id": "okbNENwSSLcZ"
      },
      "source": [
        "# Stage 1: FP tree construction"
      ]
    },
    {
      "cell_type": "code",
      "metadata": {
        "id": "r5dUYqpuGV1E"
      },
      "source": [
        "class Node:\n",
        "    def __init__(self, itemName, frequency, parentNode):\n",
        "        self.itemName = itemName\n",
        "        self.count = frequency\n",
        "        self.parent = parentNode\n",
        "        self.children = {}\n",
        "        self.next = None\n",
        "\n",
        "    def increment(self, frequency):\n",
        "        self.count += frequency\n",
        "\n",
        "    def display(self, ind=1):\n",
        "        print('  ' * ind, self.itemName, ' ', self.count)\n",
        "        for child in list(self.children.values()):\n",
        "            child.display(ind+1)"
      ],
      "execution_count": 1,
      "outputs": []
    },
    {
      "cell_type": "code",
      "metadata": {
        "id": "cHoMy067SQbf"
      },
      "source": [
        "def constructTree(itemSetList, frequency, minSup):\n",
        "    headerTable = defaultdict(int)\n",
        "    # Counting frequency and create header table\n",
        "    for idx, itemSet in enumerate(itemSetList):\n",
        "        for item in itemSet:\n",
        "            headerTable[item] += frequency[idx]\n",
        "\n",
        "    # Deleting items below minSup\n",
        "    headerTable = dict((item, sup) for item, sup in headerTable.items() if sup >= minSup)\n",
        "    if(len(headerTable) == 0):\n",
        "        return None, None\n",
        "\n",
        "    # HeaderTable column [Item: [frequency, headNode]]\n",
        "    for item in headerTable:\n",
        "        headerTable[item] = [headerTable[item], None]\n",
        "\n",
        "    # Init Null head node\n",
        "    fpTree = Node('Null', 1, None)\n",
        "    # Update FP tree for each cleaned and sorted itemSet\n",
        "    for idx, itemSet in enumerate(itemSetList):\n",
        "        itemSet = [item for item in itemSet if item in headerTable]\n",
        "        itemSet.sort(key=lambda item: headerTable[item][0], reverse=True)\n",
        "        # Traverse from root to leaf, update tree with given item\n",
        "        currentNode = fpTree\n",
        "        for item in itemSet:\n",
        "            currentNode = updateTree(item, currentNode, headerTable, frequency[idx])\n",
        "\n",
        "    return fpTree, headerTable\n",
        "\n",
        "def updateTree(item, treeNode, headerTable, frequency):\n",
        "    if item in treeNode.children:\n",
        "        # If the item already exists, increment the count\n",
        "        treeNode.children[item].increment(frequency)\n",
        "    else:\n",
        "        # Create a new branch\n",
        "        newItemNode = Node(item, frequency, treeNode)\n",
        "        treeNode.children[item] = newItemNode\n",
        "        # Link the new branch to header table\n",
        "        updateHeaderTable(item, newItemNode, headerTable)\n",
        "\n",
        "    return treeNode.children[item]\n",
        "\n",
        "def updateHeaderTable(item, targetNode, headerTable):\n",
        "    if(headerTable[item][1] == None):\n",
        "        headerTable[item][1] = targetNode\n",
        "    else:\n",
        "        currentNode = headerTable[item][1]\n",
        "        # Traverse to the last node then link it to the target\n",
        "        while currentNode.next != None:\n",
        "            currentNode = currentNode.next\n",
        "        currentNode.next = targetNode"
      ],
      "execution_count": 2,
      "outputs": []
    },
    {
      "cell_type": "markdown",
      "metadata": {
        "id": "5OXNpYMeSY0v"
      },
      "source": [
        "# Stage 2: Mine the main tree and conditional FP trees"
      ]
    },
    {
      "cell_type": "markdown",
      "metadata": {
        "id": "jlAz2ypzS2ax"
      },
      "source": [
        "**Mine Tree**\n",
        "\n",
        "Starting from the 1-frequent pattern, we find all the prefix paths and construct the conditional pattern bases with it. With the conditional pattern bases, the tree is constructed using the exact same constructTree function from above. And if the tree can be successfully constructed, we go deeper and start working on that tree. This is where the recursion happens."
      ]
    },
    {
      "cell_type": "code",
      "metadata": {
        "id": "VfE8ViStS2FQ"
      },
      "source": [
        "def mineTree(headerTable, minSup, preFix, freqItemList):\n",
        "    # Sort the items with frequency and create a list\n",
        "    sortedItemList = [item[0] for item in sorted(list(headerTable.items()), key=lambda p:p[1][0])] \n",
        "    # Start with the lowest frequency\n",
        "    for item in sortedItemList:  \n",
        "        # Pattern growth is achieved by the concatenation of suffix pattern with frequent patterns generated from conditional FP-tree\n",
        "        newFreqSet = preFix.copy()\n",
        "        newFreqSet.add(item)\n",
        "        freqItemList.append(newFreqSet)\n",
        "        # Find all prefix path, constrcut conditional pattern base\n",
        "        conditionalPattBase, frequency = findPrefixPath(item, headerTable) \n",
        "        # Construct conditonal FP Tree with conditional pattern base\n",
        "        conditionalTree, newHeaderTable = constructTree(conditionalPattBase, frequency, minSup) \n",
        "        if newHeaderTable != None:\n",
        "            # Mining recursively on the tree\n",
        "            mineTree(newHeaderTable, minSup,\n",
        "                       newFreqSet, freqItemList)"
      ],
      "execution_count": 3,
      "outputs": []
    },
    {
      "cell_type": "markdown",
      "metadata": {
        "id": "c_gMpFdLTAN1"
      },
      "source": [
        "**Find Prefix Path**\n",
        "\n",
        "\n",
        "Get the first occurrence of the item on the tree, which is the head node of the linked list in header table. Then, traverse the tree all the way up to the root to get the prefix path. After that, we go to the next node in linked list and repeat traversing."
      ]
    },
    {
      "cell_type": "code",
      "metadata": {
        "id": "uhFy0mY4SgiE"
      },
      "source": [
        "def findPrefixPath(basePat, headerTable):\n",
        "    # First node in linked list\n",
        "    treeNode = headerTable[basePat][1] \n",
        "    condPats = []\n",
        "    frequency = []\n",
        "    while treeNode != None:\n",
        "        prefixPath = []\n",
        "        # From leaf node all the way to root\n",
        "        ascendFPtree(treeNode, prefixPath)  \n",
        "        if len(prefixPath) > 1:\n",
        "            # Storing the prefix path and it's corresponding count\n",
        "            condPats.append(prefixPath[1:])\n",
        "            frequency.append(treeNode.count)\n",
        "\n",
        "        # Go to next node\n",
        "        treeNode = treeNode.next  \n",
        "    return condPats, frequency"
      ],
      "execution_count": 4,
      "outputs": []
    },
    {
      "cell_type": "markdown",
      "metadata": {
        "id": "U24iIZcSTE6Z"
      },
      "source": [
        "**Ascend FP Tree**\n",
        "\n",
        "\n",
        "Ascend the tree with self-recursion. Keep appending the items and calling itself until it reaches the root."
      ]
    },
    {
      "cell_type": "code",
      "metadata": {
        "id": "jvoV6WiiTESn"
      },
      "source": [
        "def ascendFPtree(node, prefixPath):\n",
        "    if node.parent != None:\n",
        "        prefixPath.append(node.itemName)\n",
        "        ascendFPtree(node.parent, prefixPath)"
      ],
      "execution_count": 5,
      "outputs": []
    },
    {
      "cell_type": "markdown",
      "metadata": {
        "id": "9yiLxQLiTYkU"
      },
      "source": [
        "# Fp Growth Function"
      ]
    },
    {
      "cell_type": "code",
      "metadata": {
        "id": "GbKGJ1NgFQPb"
      },
      "source": [
        "def powerset(s):\n",
        "    return chain.from_iterable(combinations(s, r) for r in range(1, len(s)))\n",
        "\n",
        "def getSupport(testSet, itemSetList):\n",
        "    count = 0\n",
        "    for itemSet in itemSetList:\n",
        "        if(set(testSet).issubset(itemSet)):\n",
        "            count += 1\n",
        "    return count\n",
        "\n",
        "def associationRule(freqItemSet, itemSetList, minConf):\n",
        "    rules = []\n",
        "    for itemSet in freqItemSet:\n",
        "        subsets = powerset(itemSet)\n",
        "        itemSetSup = getSupport(itemSet, itemSetList)\n",
        "        for s in subsets:\n",
        "            confidence = float(itemSetSup / getSupport(s, itemSetList))\n",
        "            if(confidence > minConf):\n",
        "                rules.append([set(s), set(itemSet.difference(s)), confidence])\n",
        "    return rules\n",
        "\n",
        "def getFrequencyFromList(itemSetList):\n",
        "    frequency = [1 for i in range(len(itemSetList))]\n",
        "    return frequency"
      ],
      "execution_count": 6,
      "outputs": []
    },
    {
      "cell_type": "code",
      "metadata": {
        "id": "XSsHULroTX8v"
      },
      "source": [
        "def fpgrowth(itemSetList, minSupRatio, minConf):\n",
        "    frequency = getFrequencyFromList(itemSetList)\n",
        "    minSup = len(itemSetList) * minSupRatio\n",
        "    fpTree, headerTable = constructTree(itemSetList, frequency, minSup)\n",
        "    if(fpTree == None):\n",
        "        print('No frequent item set')\n",
        "    else:\n",
        "        freqItems = []\n",
        "        mineTree(headerTable, minSup, set(), freqItems)\n",
        "        rules = associationRule(freqItems, itemSetList, minConf)\n",
        "        return freqItems, rules"
      ],
      "execution_count": 7,
      "outputs": []
    },
    {
      "cell_type": "markdown",
      "metadata": {
        "id": "EY6GmzYRvPKN"
      },
      "source": [
        "#Read an already preprocessed dataset"
      ]
    },
    {
      "cell_type": "code",
      "metadata": {
        "id": "Ny3U-0kzE_WI"
      },
      "source": [
        "import csv\n",
        "def getFromFile(fname):\n",
        "    itemSets = []\n",
        "    itemSet = set()\n",
        "\n",
        "    with open(fname, 'r') as file:\n",
        "        csv_reader = csv.reader(file)\n",
        "        for line in csv_reader:\n",
        "            line = list(filter(None, line))\n",
        "            record = set(line)\n",
        "            for item in record:\n",
        "                itemSet.add(frozenset([item]))\n",
        "            itemSets.append(record)\n",
        "    return itemSet, itemSets"
      ],
      "execution_count": 39,
      "outputs": []
    },
    {
      "cell_type": "code",
      "metadata": {
        "id": "l4XBxVdWF6kU"
      },
      "source": [
        "itemset,itemsets = getFromFile('/content/Apriori-and-FP-Growth/Confectionary store transaction dataset.csv')"
      ],
      "execution_count": 40,
      "outputs": []
    },
    {
      "cell_type": "code",
      "metadata": {
        "colab": {
          "base_uri": "https://localhost:8080/"
        },
        "id": "lW8J92OMgjCi",
        "outputId": "0ef57859-900d-4ba0-e3a5-ffea2f50d1ee"
      },
      "source": [
        "# Select some number of random transactions\n",
        "# import random\n",
        "# itemsets = random.sample(itemsets, 6263)\n",
        "# len(itemsets)"
      ],
      "execution_count": 13,
      "outputs": [
        {
          "output_type": "execute_result",
          "data": {
            "text/plain": [
              "6263"
            ]
          },
          "metadata": {
            "tags": []
          },
          "execution_count": 13
        }
      ]
    },
    {
      "cell_type": "code",
      "metadata": {
        "id": "bb06jycCF8_W",
        "colab": {
          "base_uri": "https://localhost:8080/"
        },
        "outputId": "e442fc4d-5c36-4c71-a34f-120a21828f77"
      },
      "source": [
        "import time\n",
        "start_time = time.time()\n",
        "globalfrq,rules = fpgrowth(itemsets,0.02,0.5)\n",
        "end_time = time.time()\n",
        "print(end_time-start_time)"
      ],
      "execution_count": 24,
      "outputs": [
        {
          "output_type": "stream",
          "text": [
            "12.503643274307251\n"
          ],
          "name": "stdout"
        }
      ]
    },
    {
      "cell_type": "code",
      "metadata": {
        "id": "zP1Ne1gaG7st"
      },
      "source": [
        "print(globalfrq)"
      ],
      "execution_count": null,
      "outputs": []
    },
    {
      "cell_type": "code",
      "metadata": {
        "id": "S0Rs6wZ3vfys"
      },
      "source": [
        "print(rules)"
      ],
      "execution_count": null,
      "outputs": []
    },
    {
      "cell_type": "markdown",
      "metadata": {
        "id": "Eh-kumrQviqW"
      },
      "source": [
        "# Read a dataset that is not yet processed"
      ]
    },
    {
      "cell_type": "code",
      "metadata": {
        "id": "ikwKT50rHD5N"
      },
      "source": [
        "import pandas\n",
        "csvFile = pandas.read_csv('/content/Apriori-and-FP-Growth/All-purpose gift store dataset.csv',encoding= 'unicode_escape')\n",
        "transactions = csvFile.groupby('InvoiceNo')[\"Description\"].apply(list)\n",
        "csvFile.head()\n",
        "itemset = set()\n",
        "itemsets = []\n",
        "for r in transactions:\n",
        "  itemsets.append(set(r))\n",
        "  itemset = itemset.union(set(r))"
      ],
      "execution_count": 41,
      "outputs": []
    },
    {
      "cell_type": "code",
      "metadata": {
        "id": "yytHBeFsMNnZ",
        "colab": {
          "base_uri": "https://localhost:8080/"
        },
        "outputId": "402b7790-5eeb-42aa-af95-6e48adfde3a7"
      },
      "source": [
        "# Select some number of random transactions\n",
        "# import random\n",
        "# itemsets = random.sample(itemsets, 6263)\n",
        "# len(itemsets)"
      ],
      "execution_count": 32,
      "outputs": [
        {
          "output_type": "execute_result",
          "data": {
            "text/plain": [
              "25900"
            ]
          },
          "metadata": {
            "tags": []
          },
          "execution_count": 32
        }
      ]
    },
    {
      "cell_type": "markdown",
      "metadata": {
        "id": "4IubV7UOvsMm"
      },
      "source": [
        "# Run Algorithm"
      ]
    },
    {
      "cell_type": "code",
      "metadata": {
        "id": "q0Y1dkClHOd5",
        "colab": {
          "base_uri": "https://localhost:8080/"
        },
        "outputId": "87f1ea46-3869-431d-dd5a-e95a22550a3d"
      },
      "source": [
        "import time\n",
        "start_time = time.time()\n",
        "globalfrq,rules = fpgrowth(itemsets,0.05,0.8)\n",
        "end_time = time.time()\n",
        "print(end_time-start_time)"
      ],
      "execution_count": 37,
      "outputs": [
        {
          "output_type": "stream",
          "text": [
            "0.33434128761291504\n"
          ],
          "name": "stdout"
        }
      ]
    },
    {
      "cell_type": "code",
      "metadata": {
        "id": "P9uQku0fMXEM"
      },
      "source": [
        "print(globalfrq)"
      ],
      "execution_count": null,
      "outputs": []
    },
    {
      "cell_type": "code",
      "metadata": {
        "id": "X4EGAw2WvzR1"
      },
      "source": [
        "print(rules)"
      ],
      "execution_count": null,
      "outputs": []
    }
  ]
}